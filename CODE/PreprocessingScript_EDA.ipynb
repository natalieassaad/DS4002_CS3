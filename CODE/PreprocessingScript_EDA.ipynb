{
 "cells": [
  {
   "cell_type": "code",
   "execution_count": null,
   "id": "55fac29e-a59a-4f0e-b31f-8e91ca8fb915",
   "metadata": {},
   "outputs": [],
   "source": [
    "\"\"\"\n",
    "This script uses the emails.csv dataset, found in the DATA folder of the DS4002_CS3 repository, \n",
    "to clean and preprocess textual email data. You will have to write the preprocessing code. Use the \n",
    "materials in the REFERENCE FILES folder of the repository if you need help filling in the code.\n",
    "This script also performs some exploratory data analysis, providing informative graphs and tables that \n",
    "reflect relationships between key variables. It is imperative to run this file to preprocess the \n",
    "textual data before performing any further analyses/running ML algorithms on the data. \n",
    "\"\"\""
   ]
  },
  {
   "cell_type": "code",
   "execution_count": null,
   "id": "c280c495-390f-46ac-9fd0-1b5c571b48b6",
   "metadata": {},
   "outputs": [],
   "source": [
    "# Import packages \n",
    "import pandas as pd\n",
    "import numpy as np\n",
    "import matplotlib.pyplot as plt\n",
    "import seaborn as sns\n",
    "from wordcloud import WordCloud\n",
    "from collections import Counter\n",
    "import re\n",
    "\n",
    "import nltk\n",
    "nltk.download('stopwords')\n",
    "nltk.download('punkt')\n",
    "import string\n",
    "from nltk.corpus import stopwords\n",
    "from nltk.stem import PorterStemmer\n",
    "from nltk.tokenize import sent_tokenize, word_tokenize\n",
    "#from sklearn.preprocessing import LabelEncoder"
   ]
  },
  {
   "cell_type": "code",
   "execution_count": null,
   "id": "80c9ec40-95bd-482c-be38-79461e8bd7fb",
   "metadata": {},
   "outputs": [],
   "source": [
    "# Change file path if necessary\n",
    "df = pd.read_csv(\"emails.csv\")\n",
    "df.head()"
   ]
  },
  {
   "cell_type": "code",
   "execution_count": null,
   "id": "b15ea17d-7e74-48ce-8807-fd6d1860a271",
   "metadata": {},
   "outputs": [],
   "source": [
    "# Replace spam labels for clarity\n",
    "df = df.replace({'spam': {1: 'Spam', 0: 'Not Spam'}})\n",
    "\n",
    "# Rename columns for clarity\n",
    "df = df.rename(columns={'spam': 'Spam or Not Spam', 'text': 'Email Text'})\n",
    "\n",
    "# Displaying basic dataset info\n",
    "print(\"Dataset Shape:\", df.shape)\n",
    "print(\"Column Names:\", df.columns)\n",
    "print(\"\\nFirst 5 rows:\")\n",
    "print(df.head())\n",
    "\n",
    "# Check for missing vals\n",
    "print(\"\\nMissing Values:\")\n",
    "print(df.isnull().sum())\n",
    "\n",
    "# Summary of text lengths\n",
    "df[\"Text Length\"] = df[\"Email Text\"].apply(lambda x: len(str(x)))\n",
    "print(\"\\nText Length Statistics:\")\n",
    "print(df[\"Text Length\"].describe())"
   ]
  },
  {
   "cell_type": "code",
   "execution_count": null,
   "id": "fb351c67-6138-449d-b45f-aece175ecd96",
   "metadata": {},
   "outputs": [],
   "source": [
    "df.head()"
   ]
  },
  {
   "cell_type": "code",
   "execution_count": null,
   "id": "81f8bfe9-2f68-483a-aa3b-6ff88efd4121",
   "metadata": {},
   "outputs": [],
   "source": [
    "df['Spam or Not Spam'].value_counts()\n",
    "\n",
    "# Percentage of Emails that are Spam and Not Spam\n",
    "plt.figure(figsize=(8, 6))\n",
    "plt.pie(df['Spam or Not Spam'].value_counts(), labels=df['Spam or Not Spam'].value_counts().index, autopct='%1.1f%%', startangle=140)\n",
    "plt.title('Distribution of Spam and Not Spam Emails')\n",
    "plt.axis('equal') \n",
    "plt.show()"
   ]
  },
  {
   "cell_type": "code",
   "execution_count": null,
   "id": "f035a705-aee0-4617-924d-a32ac9ddfeec",
   "metadata": {},
   "outputs": [],
   "source": [
    "# Visualize distribution of email lengths\n",
    "plt.figure(figsize=(8, 5))\n",
    "sns.histplot(df[\"Text Length\"], bins=30, kde=True)\n",
    "plt.title(\"Distribution of Email Lengths\")\n",
    "plt.xlabel(\"Number of Characters\")\n",
    "plt.ylabel(\"Frequency\")\n",
    "plt.show()"
   ]
  },
  {
   "cell_type": "code",
   "execution_count": null,
   "id": "146f76bd-bfba-49fb-a6b2-0b7f83477eb8",
   "metadata": {},
   "outputs": [],
   "source": [
    "avg_length_spam = df[df['Spam or Not Spam'] == 'Spam']['Text Length'].mean()\n",
    "avg_length_ham = df[df['Spam or Not Spam'] == 'Not Spam']['Text Length'].mean()\n",
    "\n",
    "# Average Character Count of Spam and Not Spam Emails\n",
    "print(\"Average Character Count of Spam Emails:\", avg_length_spam)\n",
    "print(\"Average Character Count of Not Spam Emails:\", avg_length_ham)\n",
    "plt.bar(['Spam', 'Not Spam'], [avg_length_spam, avg_length_ham], color=['red', 'Blue'])\n",
    "plt.title('Average Character Count in Spam vs. Not Spam')\n",
    "plt.xlabel('Email Type')\n",
    "plt.ylabel('Average Character Count')\n",
    "plt.show()"
   ]
  },
  {
   "cell_type": "code",
   "execution_count": null,
   "id": "6c77e96a-df39-452b-979e-4263695d69e4",
   "metadata": {},
   "outputs": [],
   "source": [
    "df['Word Count'] = df['Email Text'].apply(nltk.word_tokenize).apply(len)\n",
    "avg_words_spam = df[df['Spam or Not Spam'] == 'Spam']['Word Count'].mean()\n",
    "avg_words_ham = df[df['Spam or Not Spam'] == 'Not Spam']['Word Count'].mean()\n",
    "\n",
    "# Average Word Count in Spam and Not Spam Emails\n",
    "print(\"Average Words of Spam Emails:\", avg_words_spam)\n",
    "print(\"Average Words of Not Spam Emails:\", avg_words_ham)\n",
    "plt.bar(['Spam', 'Not Spam'], [avg_words_spam, avg_words_ham], color=['red', 'Blue'])\n",
    "plt.title('Average Word Count in Spam vs. Not Spam')\n",
    "plt.xlabel('Email Type')\n",
    "plt.ylabel('Average Word Count')\n",
    "plt.show()"
   ]
  },
  {
   "cell_type": "code",
   "execution_count": null,
   "id": "8142d2d8-e244-4650-98dd-d2d3651a7f3b",
   "metadata": {},
   "outputs": [],
   "source": [
    "df['Sentence Count'] = df['Email Text'].apply(nltk.sent_tokenize).apply(len)\n",
    "avg_sentence_spam = df[df['Spam or Not Spam'] == 'Spam']['Sentence Count'].mean()\n",
    "avg_sentence_ham = df[df['Spam or Not Spam'] == 'Not Spam']['Sentence Count'].mean()\n",
    "\n",
    "# Average Sentence Count in Spam and Not Spam Emails\n",
    "print(\"Average Sentences of Spam Emails:\", avg_sentence_spam)\n",
    "print(\"Average Sentences of Not Spam Emails:\", avg_sentence_ham)\n",
    "plt.bar(['Spam', 'Not Spam'], [avg_sentence_spam, avg_sentence_ham], color=['red', 'Blue'])\n",
    "plt.title('Average Sentence Count in Spam vs. Not Spam')\n",
    "plt.xlabel('Email Type')\n",
    "plt.ylabel('Average Sentence Count')\n",
    "plt.show()"
   ]
  },
  {
   "cell_type": "code",
   "execution_count": null,
   "id": "79bab5db-5add-4244-93d8-ea1162836d94",
   "metadata": {},
   "outputs": [],
   "source": [
    "# TEXT PREPROCESSING \n",
    "\n",
    "# This is the most important step in analyzing textual data! Without properly cleaned/preprocessed data, your \n",
    "# models may not run or they may be extremely ineffective. "
   ]
  },
  {
   "cell_type": "code",
   "execution_count": null,
   "id": "7969c8d8-a784-450e-97fb-0996046adc90",
   "metadata": {},
   "outputs": [],
   "source": [
    "# In the spaces below, write the following code:"
   ]
  },
  {
   "cell_type": "code",
   "execution_count": null,
   "id": "d470a547-854a-4256-aead-96dc15df54b2",
   "metadata": {},
   "outputs": [],
   "source": [
    "# Convert text to lowercase \n",
    "\n",
    "\n"
   ]
  },
  {
   "cell_type": "code",
   "execution_count": null,
   "id": "454863b1-cd53-475a-9740-9d9129cbf56d",
   "metadata": {},
   "outputs": [],
   "source": [
    "# Tokenize sentences \n",
    "\n",
    "\n"
   ]
  },
  {
   "cell_type": "code",
   "execution_count": null,
   "id": "5227d29c-1bcc-47d4-8bc2-3b3b0ac9aa41",
   "metadata": {},
   "outputs": [],
   "source": [
    "# Remove stop words and special characters using the following list of stop words \n",
    "stop_words = nltk.corpus.stopwords.words('english')\n",
    "# Adds 'subject' to the list of stopwords since all email text contains the word 'subject'\n",
    "stop_words.append('subject')\n",
    "\n",
    "\n"
   ]
  },
  {
   "cell_type": "code",
   "execution_count": null,
   "id": "bb57a341-1d05-4f06-8a30-e04076ca335f",
   "metadata": {},
   "outputs": [],
   "source": [
    "# Stemming - convert words to their root form for standardization\n",
    "\n",
    "\n"
   ]
  },
  {
   "cell_type": "code",
   "execution_count": null,
   "id": "ac310e4b-dd7c-4d84-8a7a-68d31d35d1eb",
   "metadata": {},
   "outputs": [],
   "source": [
    "# Convert the preprocessed text back to a string\n",
    "\n",
    "\n"
   ]
  },
  {
   "cell_type": "code",
   "execution_count": null,
   "id": "8e081026-0563-4e25-8896-7c182a1a95e6",
   "metadata": {},
   "outputs": [],
   "source": [
    "df.head()"
   ]
  },
  {
   "cell_type": "code",
   "execution_count": null,
   "id": "72f504c5-dea8-4dc1-b772-b914bf77dfe4",
   "metadata": {},
   "outputs": [],
   "source": [
    "# Spam word frequency analysis \n",
    "\n",
    "spam_emails = df[df['Spam or Not Spam'] == 'Spam']['Preprocessed Text']\n",
    "# Tokenize the text in spam emails\n",
    "spam_words = ' '.join(spam_emails).split()\n",
    "# Count occurrences of each word\n",
    "word_counts = Counter(spam_words)\n",
    "# Find the most common words\n",
    "most_common_words = word_counts.most_common(10)\n",
    "print(\"Top 10 Most Common Words in Spam Emails:\", most_common_words)"
   ]
  },
  {
   "cell_type": "code",
   "execution_count": null,
   "id": "c340231f-787e-4c8b-a53a-d6e80d9de5c2",
   "metadata": {},
   "outputs": [],
   "source": [
    "# Not Spam word frequency analysis \n",
    "\n",
    "not_spam_emails = df[df['Spam or Not Spam'] == 'Not Spam']['Preprocessed Text']\n",
    "# Tokenize the text in spam emails\n",
    "not_spam_words = ' '.join(not_spam_emails).split()\n",
    "# Count occurrences of each word\n",
    "word_counts = Counter(not_spam_words)\n",
    "# Find the most common words\n",
    "most_common_words_ham = word_counts.most_common(10)\n",
    "print(\"Top 10 Most Common Words in Spam Emails:\", most_common_words_ham)"
   ]
  },
  {
   "cell_type": "code",
   "execution_count": null,
   "id": "150276ea-1d25-4597-82cd-864d0fc89329",
   "metadata": {},
   "outputs": [],
   "source": [
    "# Word cloud visualization for spam emails\n",
    "spam_text = \" \".join(spam_words)\n",
    "wordcloud_spam = WordCloud(width=800, height=400, background_color=\"black\").generate(spam_text)\n",
    "\n",
    "plt.figure(figsize=(10, 5))\n",
    "plt.imshow(wordcloud_spam, interpolation=\"bilinear\")\n",
    "plt.axis(\"off\")\n",
    "plt.title(\"WordCloud for Spam Emails\")\n",
    "plt.show()"
   ]
  },
  {
   "cell_type": "code",
   "execution_count": null,
   "id": "f67fe2da-a450-40bb-9dc1-46b91e2ef777",
   "metadata": {},
   "outputs": [],
   "source": [
    "# Word cloud visualization for non-spam emails\n",
    "not_spam_text = \" \".join(not_spam_words)\n",
    "wordcloud_not_spam = WordCloud(width=800, height=400, background_color=\"white\").generate(not_spam_text)\n",
    "\n",
    "plt.figure(figsize=(10, 5))\n",
    "plt.imshow(wordcloud_not_spam, interpolation=\"bilinear\")\n",
    "plt.axis(\"off\")\n",
    "plt.title(\"WordCloud for Non-Spam Emails\")\n",
    "plt.show()"
   ]
  },
  {
   "cell_type": "code",
   "execution_count": null,
   "id": "823f0eaa-2ef3-43b5-acf2-a83df17b3d94",
   "metadata": {},
   "outputs": [],
   "source": [
    "# Save dataframe with preprocessed text\n",
    "df.to_csv('preprocessed_data.csv', index = False)"
   ]
  }
 ],
 "metadata": {
  "kernelspec": {
   "display_name": "Python 3 (ipykernel)",
   "language": "python",
   "name": "python3"
  },
  "language_info": {
   "codemirror_mode": {
    "name": "ipython",
    "version": 3
   },
   "file_extension": ".py",
   "mimetype": "text/x-python",
   "name": "python",
   "nbconvert_exporter": "python",
   "pygments_lexer": "ipython3",
   "version": "3.10.6"
  }
 },
 "nbformat": 4,
 "nbformat_minor": 5
}
